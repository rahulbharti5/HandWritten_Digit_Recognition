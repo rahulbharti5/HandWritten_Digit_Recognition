{
 "cells": [
  {
   "cell_type": "markdown",
   "metadata": {},
   "source": [
    "### __<font color=\"Green\">Project Title : Handwritten Digit Recognition using Deep Leraning (Neural Network);</font>__\n",
    "Question : What Does It Do?\n",
    "Ans : It Recognise the handwritten digit."
   ]
  },
  {
   "cell_type": "code",
   "execution_count": 1,
   "metadata": {},
   "outputs": [
    {
     "name": "stdout",
     "output_type": "stream",
     "text": [
      "Dimension of data: (70000, 784)\n",
      "Dimension of data: (70000, 784, 1)\n"
     ]
    }
   ],
   "source": [
    "from sklearn.datasets import fetch_openml\n",
    "import numpy as np\n",
    "import matplotlib.pyplot as plt\n",
    "\n",
    "# Load the MNIST dataset\n",
    "mnist = fetch_openml('mnist_784', version=1)\n",
    "data, y = np.array(mnist.data, dtype='float32'), np.array(mnist.target, dtype='int')\n",
    "\n",
    "# Reshape the data into 28x28 images\n",
    "print(f\"Dimension of data: {data.shape}\")\n",
    "# data = data.reshape(-1, 28, 28)\n",
    "data = data.reshape(-1, 784,1)\n",
    "print(f\"Dimension of data: {data.shape}\")\n",
    "\n"
   ]
  },
  {
   "cell_type": "markdown",
   "metadata": {},
   "source": [
    "### Spliting The data into 80% and 20%"
   ]
  },
  {
   "cell_type": "code",
   "execution_count": 3,
   "metadata": {},
   "outputs": [],
   "source": [
    "# Split the data into training and testing sets\n",
    "num_train = 60000\n",
    "X_train, X_test = data[:num_train], data[num_train:]\n",
    "y_train, y_test = y[:num_train], y[num_train:]\n",
    "\n",
    "# Normalize the data\n",
    "div = X_test.max()\n",
    "X_test = X_test / div\n",
    "X_train = X_train / div\n",
    "\n"
   ]
  },
  {
   "cell_type": "markdown",
   "metadata": {},
   "source": [
    "### Sigmoid and Loss Function definitions"
   ]
  },
  {
   "cell_type": "code",
   "execution_count": 4,
   "metadata": {},
   "outputs": [],
   "source": [
    "def sigmoid(z):\n",
    "    return 1 / (1 + np.exp(-z))\n",
    "\n",
    "def cross_entropy_loss(y_true, y_pred):\n",
    "    epsilon = 1e-15  # small constant to avoid log(0)\n",
    "    y_pred = np.clip(y_pred, epsilon, 1 - epsilon)  # clip values to avoid log(0) or log(1)\n",
    "    return -np.sum(y_true * np.log(y_pred)) / len(y_true)"
   ]
  },
  {
   "cell_type": "markdown",
   "metadata": {},
   "source": [
    "### Pridiction Function"
   ]
  },
  {
   "cell_type": "code",
   "execution_count": 5,
   "metadata": {},
   "outputs": [],
   "source": [
    "def predict(W1, b1, W2, b2, X):\n",
    "    # Forward Propagation\n",
    "    Z1 = np.dot(W1, X) + b1\n",
    "    A1 = sigmoid(Z1)\n",
    "\n",
    "    Z2 = np.dot(W2, A1) + b2\n",
    "    A2 = sigmoid(Z2)\n",
    "\n",
    "    predicted_class = np.argmax(A2)\n",
    "\n",
    "    return predicted_class\n",
    "\n"
   ]
  },
  {
   "cell_type": "markdown",
   "metadata": {},
   "source": [
    "### Acuracy Calculation"
   ]
  },
  {
   "cell_type": "code",
   "execution_count": 6,
   "metadata": {},
   "outputs": [],
   "source": [
    "def calculate_accuracy(W1, b1, W2, b2, X, y):\n",
    "    correct_predictions = 0\n",
    "\n",
    "    for i in range(len(X)):\n",
    "        # Predict the class for each example\n",
    "        prediction = predict(W1, b1, W2, b2, X[i])\n",
    "\n",
    "        # Check if the prediction is correct\n",
    "        if prediction == y[i]:\n",
    "            correct_predictions += 1\n",
    "\n",
    "    accuracy = correct_predictions / len(X)\n",
    "    return accuracy"
   ]
  },
  {
   "cell_type": "markdown",
   "metadata": {},
   "source": [
    "### Weight Intialization"
   ]
  },
  {
   "cell_type": "code",
   "execution_count": 7,
   "metadata": {},
   "outputs": [],
   "source": [
    "trained_W1, trained_b1, trained_W2, trained_b2 = None, None, None, None    \n",
    "\n",
    "def initialize_parameters(num_features, num_hidden_units, num_output_units):\n",
    "    # Use He initialization for weights\n",
    "    W1 = np.random.randn(num_hidden_units, num_features) * np.sqrt(2. / (num_features + num_hidden_units))\n",
    "    #W1 = np.random.randn(num_hidden_units, num_features)\n",
    "    b1 = np.zeros((num_hidden_units, 1))\n",
    "    W2 = np.random.randn(num_output_units, num_hidden_units) * np.sqrt(2. / (num_hidden_units + num_output_units))\n",
    "    #W2 = np.random.randn(num_output_units, num_hidden_units) \n",
    "    b2 = np.zeros((num_output_units, 1))\n",
    "\n",
    "\n",
    "    \n",
    "    return W1, b1, W2, b2"
   ]
  },
  {
   "cell_type": "markdown",
   "metadata": {},
   "source": [
    "[Delta Rule](https://www.youtube.com/watch?v=vsWrXfO3wWw)\n",
    "[BackPropagation Chain Rule](https://www.youtube.com/watch?v=sIX_9n-1UbM&t=560s)\n",
    "[Neural Network Mathematics](https://www.youtube.com/watch?v=aircAruvnKk&list=PLZHQObOWTQDNU6R1_67000Dx_ZCJB-3pi&index=1&t=339s)"
   ]
  },
  {
   "cell_type": "markdown",
   "metadata": {},
   "source": [
    "### Model Architechure and gradient descent function\n",
    "1. Forword Propagation\n",
    "2. Loss Calculation\n",
    "3. Backpropagation\n"
   ]
  },
  {
   "cell_type": "code",
   "execution_count": 8,
   "metadata": {},
   "outputs": [
    {
     "name": "stderr",
     "output_type": "stream",
     "text": [
      "Epoch 0 Loss: 0:   0%|          | 202/60000 [00:00<00:29, 2014.09it/s]"
     ]
    },
    {
     "name": "stdout",
     "output_type": "stream",
     "text": [
      "0.9638963212768606 -1.0147159158509138 1.4721195209221263 -1.0147159158509138\n"
     ]
    },
    {
     "name": "stderr",
     "output_type": "stream",
     "text": [
      "Epoch 0 Loss: 0: 100%|██████████| 60000/60000 [00:26<00:00, 2302.38it/s]\n"
     ]
    },
    {
     "name": "stdout",
     "output_type": "stream",
     "text": [
      "Epoch 0, Average Loss: 1.9546761703848445, Accuracy :89.79%\n"
     ]
    },
    {
     "name": "stderr",
     "output_type": "stream",
     "text": [
      "Epoch 1 Loss: 0:   1%|          | 481/60000 [00:00<00:25, 2298.04it/s]"
     ]
    },
    {
     "name": "stdout",
     "output_type": "stream",
     "text": [
      "0.10255150779825328 -7.566275024383943 7.953018826664603 -7.566275024383943\n"
     ]
    },
    {
     "name": "stderr",
     "output_type": "stream",
     "text": [
      "Epoch 1 Loss: 0: 100%|██████████| 60000/60000 [00:27<00:00, 2189.06it/s]\n"
     ]
    },
    {
     "name": "stdout",
     "output_type": "stream",
     "text": [
      "Epoch 1, Average Loss: 0.9350564727114329, Accuracy :91.08000000000001%\n"
     ]
    },
    {
     "name": "stderr",
     "output_type": "stream",
     "text": [
      "Epoch 2 Loss: 0:   0%|          | 202/60000 [00:00<00:30, 1981.20it/s]"
     ]
    },
    {
     "name": "stdout",
     "output_type": "stream",
     "text": [
      "0.11881914410064454 -10.169371497171994 7.8622747115021365 -10.169371497171994\n"
     ]
    },
    {
     "name": "stderr",
     "output_type": "stream",
     "text": [
      "Epoch 2 Loss: 0: 100%|██████████| 60000/60000 [00:27<00:00, 2164.31it/s]\n"
     ]
    },
    {
     "name": "stdout",
     "output_type": "stream",
     "text": [
      "Epoch 2, Average Loss: 0.7396559739208679, Accuracy :91.67999999999999%\n"
     ]
    },
    {
     "name": "stderr",
     "output_type": "stream",
     "text": [
      "Epoch 3 Loss: 0:   0%|          | 202/60000 [00:00<00:30, 1965.88it/s]"
     ]
    },
    {
     "name": "stdout",
     "output_type": "stream",
     "text": [
      "0.023449146992028602 -12.324462758352794 7.291899192118397 -12.324462758352794\n"
     ]
    },
    {
     "name": "stderr",
     "output_type": "stream",
     "text": [
      "Epoch 3 Loss: 0: 100%|██████████| 60000/60000 [00:27<00:00, 2186.71it/s]\n"
     ]
    },
    {
     "name": "stdout",
     "output_type": "stream",
     "text": [
      "Epoch 3, Average Loss: 0.6476951892360067, Accuracy :92.05%\n"
     ]
    },
    {
     "name": "stderr",
     "output_type": "stream",
     "text": [
      "Epoch 4 Loss: 0:   0%|          | 171/60000 [00:00<00:36, 1654.33it/s]"
     ]
    },
    {
     "name": "stdout",
     "output_type": "stream",
     "text": [
      "0.5410476296676716 -14.1899614612658 6.84330766731156 -14.1899614612658\n"
     ]
    },
    {
     "name": "stderr",
     "output_type": "stream",
     "text": [
      "Epoch 4 Loss: 0: 100%|██████████| 60000/60000 [00:26<00:00, 2229.57it/s]\n"
     ]
    },
    {
     "name": "stdout",
     "output_type": "stream",
     "text": [
      "Epoch 4, Average Loss: 0.5915364293333811, Accuracy :92.31%\n"
     ]
    }
   ],
   "source": [
    "import numpy as np\n",
    "from tqdm import tqdm\n",
    "\n",
    "def gradient_descent(X_train, y_train, learning_rate=0.1, epochs=1):\n",
    "    num_features = X_train.shape[1]\n",
    "    num_hidden_units = 16\n",
    "    num_output_units = 10\n",
    "\n",
    "    # Initialize parameters\n",
    "    # Check if trained parameters are available\n",
    "    if trained_W1 is not None:\n",
    "        W1 = trained_W1\n",
    "        b1 = trained_b1\n",
    "        W2 = trained_W2\n",
    "        b2 = trained_b2\n",
    "    else:\n",
    "        # If not, initialize parameters\n",
    "        W1, b1, W2, b2 = initialize_parameters(num_features, num_hidden_units, num_output_units)\n",
    "\n",
    "    for epoch in range(epochs):\n",
    "        epoch_loss = 0\n",
    "\n",
    "        # Use tqdm for the progress bar\n",
    "        for i in tqdm(range(len(X_train)), desc=f'Epoch {epoch} Loss: {epoch_loss}'):\n",
    "            # Forward Propagation\n",
    "            Input = X_train[i]\n",
    "            \n",
    "            Z1 = np.dot(W1, Input) + b1\n",
    "            A1 = sigmoid(Z1)\n",
    "   \n",
    "            Z2 = np.dot(W2, A1) + b2\n",
    "            A2 = sigmoid(Z2)\n",
    "            \n",
    "            if i== 0:\n",
    "                print(Z2.max(),Z1.min(),Z1.max(),Z1.min())\n",
    "\n",
    "            # if i == 0:\n",
    "            #     print(\"A1 :\",A1.T[0])\n",
    "            #     print(\"A2 :\",A2.T[0])\n",
    "            # Error Propagation\n",
    "            y_true = np.zeros((num_output_units, 1))\n",
    "            y_true[y_train[i]] = 1\n",
    "\n",
    "            dz2 = A2 - y_true\n",
    "            #Backpropagation\n",
    "            dw2 = np.dot(dz2, A1.T) * A2 * (1 - A2) \n",
    "            db2 = np.sum(dz2, axis=1, keepdims=True)\n",
    "\n",
    "            dz1 = np.dot(W2.T, dz2) * A1 * (1 - A1)\n",
    "            dw1 = np.dot(dz1, Input.T)\n",
    "            db1 = np.sum(dz1, axis=1, keepdims=True)\n",
    "\n",
    "            # Update Parameters\n",
    "            W2 -= learning_rate * dw2\n",
    "            b2 -= learning_rate * db2\n",
    "            W1 -= learning_rate * dw1\n",
    "            b1 -= learning_rate * db1\n",
    "\n",
    "            # Calculate and accumulate loss\n",
    "            loss = cross_entropy_loss(A2, y_true)\n",
    "            epoch_loss += loss\n",
    "\n",
    "        # Print or log the average loss for the epoch\n",
    "        average_loss = epoch_loss / len(X_train)\n",
    "        print(f\"Epoch {epoch}, Average Loss: {average_loss}, Accuracy :{calculate_accuracy(W1, b1, W2, b2,X_test, y_test)*100}%\")\n",
    "    \n",
    "    return W1, b1, W2, b2\n",
    "\n",
    "# Example Usage\n",
    "# Assuming X_train, y_train are defined\n",
    "# X_train: Input data (m, 728), y_train: Target data (m,)\n",
    "\n",
    "# Set up initial weights and biases randomly\n",
    "trained_W1, trained_b1, trained_W2, trained_b2 = gradient_descent(X_train, y_train, learning_rate=0.01, epochs=5)"
   ]
  },
  {
   "cell_type": "markdown",
   "metadata": {},
   "source": [
    "### The Checking the Accuracy"
   ]
  },
  {
   "cell_type": "code",
   "execution_count": 9,
   "metadata": {},
   "outputs": [
    {
     "name": "stdout",
     "output_type": "stream",
     "text": [
      "Accuracy :92.31%\n"
     ]
    }
   ],
   "source": [
    "print(f\"Accuracy :{calculate_accuracy(trained_W1, trained_b1, trained_W2, trained_b2,X_test, y_test)*100}%\")"
   ]
  },
  {
   "cell_type": "markdown",
   "metadata": {},
   "source": [
    "### Testing The Model \n",
    "by taking the random image from test data"
   ]
  },
  {
   "cell_type": "code",
   "execution_count": 34,
   "metadata": {},
   "outputs": [
    {
     "name": "stdout",
     "output_type": "stream",
     "text": [
      "Predicted Class: 3\n",
      "Actual Class : 3\n"
     ]
    },
    {
     "data": {
      "image/png": "[encoded data removed]",
      "text/plain": [
       "<Figure size 480x480 with 1 Axes>"
      ]
     },
     "metadata": {},
     "output_type": "display_data"
    }
   ],
   "source": [
    "import random\n",
    "random_integer = random.randint(0, 1000)\n",
    "\n",
    "\n",
    "def predict(W1, b1, W2, b2, X):\n",
    "    # Forward Propagation\n",
    "    Z1 = np.dot(W1, X ) + b1\n",
    "    A1 = sigmoid(Z1)\n",
    "\n",
    "    Z2 = np.dot(W2, A1) + b2\n",
    "    A2 = sigmoid(Z2)\n",
    "\n",
    "    # Assuming A2 represents the probabilities for each class\n",
    "    # Choose the class with the highest probability as the predicted class\n",
    "    predicted_class = np.argmax(A2)\n",
    "\n",
    "    return predicted_class\n",
    "\n",
    "# Example Usage\n",
    "# Assuming X_test is the test dataset\n",
    "# X_test: Input data (m, 728)\n",
    "\n",
    "# Predict for the first example in the test dataset\n",
    "prediction = predict(trained_W1, trained_b1, trained_W2, trained_b2, X_test[random_integer])\n",
    "print(\"Predicted Class:\", prediction)\n",
    "\n",
    "plt.matshow(X_test[random_integer].reshape(28, 28), cmap='gray')\n",
    "print(\"Actual Class :\",y_test[random_integer])"
   ]
  },
  {
   "cell_type": "markdown",
   "metadata": {},
   "source": [
    "### Saving the model Data"
   ]
  },
  {
   "cell_type": "code",
   "execution_count": 11,
   "metadata": {},
   "outputs": [],
   "source": [
    "import numpy as np\n",
    "\n",
    "# Assuming you have trained_W1, trained_b1, trained_W2, trained_b2\n",
    "\n",
    "# Save the weights to a file\n",
    "np.savez('trained_weights.npz', W1=trained_W1, b1=trained_b1, W2=trained_W2, b2=trained_b2)"
   ]
  },
  {
   "cell_type": "markdown",
   "metadata": {},
   "source": [
    "### Geting The data from saved model"
   ]
  },
  {
   "cell_type": "code",
   "execution_count": 12,
   "metadata": {},
   "outputs": [
    {
     "name": "stdout",
     "output_type": "stream",
     "text": [
      "Accuracy :92.31%\n"
     ]
    }
   ],
   "source": [
    "\n",
    "loaded_weights = np.load('trained_weights.npz')\n",
    "\n",
    "trained_W1 = loaded_weights.get(\"W1\")\n",
    "trained_b1 = loaded_weights.get(\"b1\")\n",
    "trained_W2 = loaded_weights.get(\"W2\")\n",
    "trained_b2 = loaded_weights.get(\"b2\")\n",
    "print(f\"Accuracy :{calculate_accuracy(trained_W1, trained_b1, trained_W2, trained_b2,X_test, y_test)*100}%\")"
   ]
  },
  {
   "cell_type": "code",
   "execution_count": 13,
   "metadata": {},
   "outputs": [],
   "source": [
    "y_predicted = []\n",
    "for i in range(len(X_test)):\n",
    "    y_predicted.append(predict(trained_W1, trained_b1, trained_W2, trained_b2, X_test[i]))"
   ]
  },
  {
   "cell_type": "markdown",
   "metadata": {},
   "source": [
    "### Analysing the Confusion Matrix"
   ]
  },
  {
   "cell_type": "code",
   "execution_count": 14,
   "metadata": {},
   "outputs": [
    {
     "data": {
      "image/png": "[encoded data removed]",
      "text/plain": [
       "<Figure size 640x480 with 2 Axes>"
      ]
     },
     "metadata": {},
     "output_type": "display_data"
    }
   ],
   "source": [
    "from sklearn.metrics import confusion_matrix\n",
    "import seaborn as sns\n",
    "\n",
    "# Assuming you have the variables y_true and y_predicted\n",
    "\n",
    "# Calculate the confusion matrix\n",
    "cm = confusion_matrix(y_test, y_predicted)\n",
    "\n",
    "# Plot the confusion matrix as a heatmap\n",
    "sns.heatmap(cm, annot=True, fmt='d', cmap='Blues')\n",
    "plt.xlabel('Predicted')\n",
    "plt.ylabel('True')\n",
    "plt.title('Confusion Matrix')\n",
    "plt.show()\n",
    "\n"
   ]
  }
 ],
 "metadata": {
  "kernelspec": {
   "display_name": ".env",
   "language": "python",
   "name": "python3"
  },
  "language_info": {
   "codemirror_mode": {
    "name": "ipython",
    "version": 3
   },
   "file_extension": ".py",
   "mimetype": "text/x-python",
   "name": "python",
   "nbconvert_exporter": "python",
   "pygments_lexer": "ipython3",
   "version": "3.11.6"
  }
 },
 "nbformat": 4,
 "nbformat_minor": 2
}
